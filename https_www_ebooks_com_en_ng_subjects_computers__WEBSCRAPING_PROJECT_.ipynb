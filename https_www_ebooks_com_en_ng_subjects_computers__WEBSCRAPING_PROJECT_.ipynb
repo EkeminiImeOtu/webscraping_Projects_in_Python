{
  "cells": [
    {
      "cell_type": "markdown",
      "metadata": {
        "id": "GkLGfsJOQGf3"
      },
      "source": [
        "#### Step 1 - Imports"
      ]
    },
    {
      "cell_type": "code",
      "execution_count": 1,
      "metadata": {
        "id": "hXu75wKxQGf6"
      },
      "outputs": [],
      "source": [
        "import requests\n",
        "import pandas as pd"
      ]
    },
    {
      "cell_type": "markdown",
      "metadata": {
        "id": "5-s-4KgMQGf7"
      },
      "source": [
        "#### Step 2 - Requests & CURL"
      ]
    },
    {
      "cell_type": "code",
      "execution_count": 2,
      "metadata": {
        "id": "0aOzvka4QGf7"
      },
      "outputs": [],
      "source": [
        "\n",
        "\n",
        "headers = {\n",
        "    'sec-ch-ua': '\"Not/A)Brand\";v=\"99\", \"Google Chrome\";v=\"115\", \"Chromium\";v=\"115\"',\n",
        "    'sec-ch-ua-platform': '\"Windows\"',\n",
        "    'Referer': 'https://www.ebooks.com/en-ng/subjects/computers/',\n",
        "    'sec-ch-ua-mobile': '?0',\n",
        "    'User-Agent': 'Mozilla/5.0 (Windows NT 10.0; Win64; x64) AppleWebKit/537.36 (KHTML, like Gecko) Chrome/115.0.0.0 Safari/537.36',\n",
        "    'Content-Type': 'application/json',\n",
        "}\n",
        "\n",
        "params = {\n",
        "    'CountryCode': 'NG',\n",
        "    'subjectId': '13',\n",
        "}\n",
        "\n",
        "response = requests.get('https://www.ebooks.com/api/search/subject/', params=params, headers=headers)"
      ]
    },
    {
      "cell_type": "markdown",
      "metadata": {
        "id": "8-Fjm4OAQGf8"
      },
      "source": [
        "#### Step 3 - Check Status Code"
      ]
    },
    {
      "cell_type": "code",
      "execution_count": 3,
      "metadata": {
        "colab": {
          "base_uri": "https://localhost:8080/"
        },
        "id": "cM93j6JjQGf8",
        "outputId": "c438d272-8562-4d65-fb33-c0b71886b78d"
      },
      "outputs": [
        {
          "output_type": "execute_result",
          "data": {
            "text/plain": [
              "<Response [200]>"
            ]
          },
          "metadata": {},
          "execution_count": 3
        }
      ],
      "source": [
        "response"
      ]
    },
    {
      "cell_type": "markdown",
      "metadata": {
        "id": "DbJ8UDOCQGf9"
      },
      "source": [
        "#### Step 4 - Create Json Object"
      ]
    },
    {
      "cell_type": "code",
      "execution_count": 4,
      "metadata": {
        "id": "m9m373sbQGf9",
        "colab": {
          "base_uri": "https://localhost:8080/"
        },
        "outputId": "3f628cd8-9607-465f-cfd4-d82ee8fb87ad"
      },
      "outputs": [
        {
          "output_type": "execute_result",
          "data": {
            "text/plain": [
              "{'search_term': None,\n",
              " 'start_record': 1,\n",
              " 'total_results': 58123,\n",
              " 'books': [{'id': 210833591,\n",
              "   'book_url': '/en-ng/book/210833591/generative-deep-learning/david-foster/',\n",
              "   'image_url': 'https://image.ebooks.com/cover/210833591.jpg?width=97&height=150&quality=85',\n",
              "   'image_alt_tag': 'Generative Deep Learning',\n",
              "   'src_set': ' https://image.ebooks.com/cover/210833591.jpg?width=97&height=150&quality=85 1x,  https://image.ebooks.com/cover/210833591.jpg?width=194&height=300&quality=85 2x,  https://image.ebooks.com/cover/210833591.jpg?width=291&height=450&quality=85 3x,  https://image.ebooks.com/cover/210833591.jpg?width=388&height=600&quality=85 4x',\n",
              "   'image_width': 97,\n",
              "   'image_height': 150,\n",
              "   'title': 'Generative Deep Learning',\n",
              "   'edition': ' (2nd ed.)',\n",
              "   'subtitle': '',\n",
              "   'authors': [{'name': 'David Foster',\n",
              "     'normalised_name': None,\n",
              "     'landing_page': '/en-ng/author/david-foster/7762/',\n",
              "     'precedence': 0,\n",
              "     'author_type_short': ''}],\n",
              "   'num_authors': 1,\n",
              "   'series': ' Series',\n",
              "   'series_number': '',\n",
              "   'has_series': False,\n",
              "   'series_url': '',\n",
              "   'publisher': \"O'Reilly Media\",\n",
              "   'publication_year': '2022',\n",
              "   'price': 'US$67.99',\n",
              "   'description': 'Generative AI is the hottest topic in tech. This practical book teaches machine learning engineers and data scientists how to use TensorFlow and Keras to create impressive generative deep learning models from scratch, including variational autoencoders (VAEs), generative adversarial networks (GANs), Transformers, normalizing flows, energy-based...',\n",
              "   'is_preorder': False,\n",
              "   'is_available': True,\n",
              "   'preorder_url': '/account/preorder/?bookId=210833591',\n",
              "   'add_to_cart_url': '/cart/add/210833591/',\n",
              "   'currency_symbol': 'US$',\n",
              "   'price_number': 67.99,\n",
              "   'on_sale_date': '2023-04-28T00:00:00',\n",
              "   'short_publication_date': 'Jun 2022'},\n",
              "  {'id': 210531368,\n",
              "   'book_url': '/en-ng/book/210531368/fluent-python/luciano-ramalho/',\n",
              "   'image_url': 'https://image.ebooks.com/cover/210531368.jpg?width=97&height=150&quality=85',\n",
              "   'image_alt_tag': 'Fluent Python',\n",
              "   'src_set': ' https://image.ebooks.com/cover/210531368.jpg?width=97&height=150&quality=85 1x,  https://image.ebooks.com/cover/210531368.jpg?width=194&height=300&quality=85 2x,  https://image.ebooks.com/cover/210531368.jpg?width=291&height=450&quality=85 3x,  https://image.ebooks.com/cover/210531368.jpg?width=388&height=600&quality=85 4x',\n",
              "   'image_width': 97,\n",
              "   'image_height': 150,\n",
              "   'title': 'Fluent Python',\n",
              "   'edition': ' (2nd ed.)',\n",
              "   'subtitle': '',\n",
              "   'authors': [{'name': 'Luciano Ramalho',\n",
              "     'normalised_name': None,\n",
              "     'landing_page': '/en-ng/author/luciano-ramalho/983436/',\n",
              "     'precedence': 0,\n",
              "     'author_type_short': ''}],\n",
              "   'num_authors': 1,\n",
              "   'series': ' Series',\n",
              "   'series_number': '',\n",
              "   'has_series': False,\n",
              "   'series_url': '',\n",
              "   'publisher': \"O'Reilly Media\",\n",
              "   'publication_year': '2022',\n",
              "   'price': 'US$67.99',\n",
              "   'description': \"Don't waste time bending Python to fit patterns you've learned in other languages. Python's simplicity lets you become productive quickly, but often this means you aren't using everything the language has to offer. With the updated edition of this hands-on guide, you'll learn how to write effective, modern Python 3 code by leveraging its best...\",\n",
              "   'is_preorder': False,\n",
              "   'is_available': True,\n",
              "   'preorder_url': '/account/preorder/?bookId=210531368',\n",
              "   'add_to_cart_url': '/cart/add/210531368/',\n",
              "   'currency_symbol': 'US$',\n",
              "   'price_number': 67.99,\n",
              "   'on_sale_date': '2022-03-31T00:00:00',\n",
              "   'short_publication_date': 'Mar 2022'},\n",
              "  {'id': 210670147,\n",
              "   'book_url': '/en-ng/book/210670147/the-staff-engineer-s-path/tanya-reilly/',\n",
              "   'image_url': 'https://image.ebooks.com/cover/210670147.jpg?width=97&height=150&quality=85',\n",
              "   'image_alt_tag': 'The Staff Engineer&#x27;s Path',\n",
              "   'src_set': ' https://image.ebooks.com/cover/210670147.jpg?width=97&height=150&quality=85 1x,  https://image.ebooks.com/cover/210670147.jpg?width=194&height=300&quality=85 2x,  https://image.ebooks.com/cover/210670147.jpg?width=291&height=450&quality=85 3x,  https://image.ebooks.com/cover/210670147.jpg?width=388&height=600&quality=85 4x',\n",
              "   'image_width': 97,\n",
              "   'image_height': 150,\n",
              "   'title': \"The Staff Engineer's Path\",\n",
              "   'edition': '',\n",
              "   'subtitle': '',\n",
              "   'authors': [{'name': 'Tanya Reilly',\n",
              "     'normalised_name': None,\n",
              "     'landing_page': '/en-ng/author/tanya-reilly/208722527/',\n",
              "     'precedence': 0,\n",
              "     'author_type_short': ''}],\n",
              "   'num_authors': 1,\n",
              "   'series': ' Series',\n",
              "   'series_number': '',\n",
              "   'has_series': False,\n",
              "   'series_url': '',\n",
              "   'publisher': \"O'Reilly Media\",\n",
              "   'publication_year': '2022',\n",
              "   'price': 'US$33.99',\n",
              "   'description': \"For years, companies have rewarded their most effective engineers with management positions. But treating management as the default path for an engineer with leadership ability doesn't serve the industry well--or the engineer. The staff engineer's path allows engineers to contribute at a high level as role models, driving big projects, determining...\",\n",
              "   'is_preorder': False,\n",
              "   'is_available': True,\n",
              "   'preorder_url': '/account/preorder/?bookId=210670147',\n",
              "   'add_to_cart_url': '/cart/add/210670147/',\n",
              "   'currency_symbol': 'US$',\n",
              "   'price_number': 33.99,\n",
              "   'on_sale_date': '2022-09-20T00:00:00',\n",
              "   'short_publication_date': 'Sep 2022'},\n",
              "  {'id': 210681725,\n",
              "   'book_url': '/en-ng/book/210681725/hands-on-machine-learning-with-scikit-learn-keras-and-tensorflow/aur-lien-g-ron/',\n",
              "   'image_url': 'https://image.ebooks.com/cover/210681725.jpg?width=97&height=150&quality=85',\n",
              "   'image_alt_tag': 'Hands-On Machine Learning with Scikit-Learn, Keras, and TensorFlow',\n",
              "   'src_set': ' https://image.ebooks.com/cover/210681725.jpg?width=97&height=150&quality=85 1x,  https://image.ebooks.com/cover/210681725.jpg?width=194&height=300&quality=85 2x,  https://image.ebooks.com/cover/210681725.jpg?width=291&height=450&quality=85 3x,  https://image.ebooks.com/cover/210681725.jpg?width=388&height=600&quality=85 4x',\n",
              "   'image_width': 97,\n",
              "   'image_height': 150,\n",
              "   'title': 'Hands-On Machine Learning with Scikit-Learn, Keras, and TensorFlow',\n",
              "   'edition': ' (3rd ed.)',\n",
              "   'subtitle': '',\n",
              "   'authors': [{'name': 'Aurélien Géron',\n",
              "     'normalised_name': None,\n",
              "     'landing_page': '/en-ng/author/aurélien-géron/1320636/',\n",
              "     'precedence': 0,\n",
              "     'author_type_short': ''}],\n",
              "   'num_authors': 1,\n",
              "   'series': ' Series',\n",
              "   'series_number': '',\n",
              "   'has_series': False,\n",
              "   'series_url': '',\n",
              "   'publisher': \"O'Reilly Media\",\n",
              "   'publication_year': '2022',\n",
              "   'price': 'US$76.99',\n",
              "   'description': 'Through a recent series of breakthroughs, deep learning has boosted the entire field of machine learning. Now, even programmers who know close to nothing about this technology can use simple, efficient tools to implement programs capable of learning from data. This bestselling book uses concrete examples, minimal theory, and production-ready Python...',\n",
              "   'is_preorder': False,\n",
              "   'is_available': True,\n",
              "   'preorder_url': '/account/preorder/?bookId=210681725',\n",
              "   'add_to_cart_url': '/cart/add/210681725/',\n",
              "   'currency_symbol': 'US$',\n",
              "   'price_number': 76.99,\n",
              "   'on_sale_date': '2022-10-04T00:00:00',\n",
              "   'short_publication_date': 'Oct 2022'},\n",
              "  {'id': 210595152,\n",
              "   'book_url': '/en-ng/book/210595152/fundamentals-of-data-engineering/joe-reis/',\n",
              "   'image_url': 'https://image.ebooks.com/cover/210595152.jpg?width=97&height=150&quality=85',\n",
              "   'image_alt_tag': 'Fundamentals of Data Engineering',\n",
              "   'src_set': ' https://image.ebooks.com/cover/210595152.jpg?width=97&height=150&quality=85 1x,  https://image.ebooks.com/cover/210595152.jpg?width=194&height=300&quality=85 2x,  https://image.ebooks.com/cover/210595152.jpg?width=291&height=450&quality=85 3x,  https://image.ebooks.com/cover/210595152.jpg?width=388&height=600&quality=85 4x',\n",
              "   'image_width': 97,\n",
              "   'image_height': 150,\n",
              "   'title': 'Fundamentals of Data Engineering',\n",
              "   'edition': '',\n",
              "   'subtitle': '',\n",
              "   'authors': [{'name': 'Joe Reis',\n",
              "     'normalised_name': None,\n",
              "     'landing_page': '/en-ng/author/joe-reis/208694572/',\n",
              "     'precedence': 0,\n",
              "     'author_type_short': ''},\n",
              "    {'name': 'Matt Housley',\n",
              "     'normalised_name': None,\n",
              "     'landing_page': '/en-ng/author/matt-housley/208694573/',\n",
              "     'precedence': 0,\n",
              "     'author_type_short': ''}],\n",
              "   'num_authors': 2,\n",
              "   'series': ' Series',\n",
              "   'series_number': '',\n",
              "   'has_series': False,\n",
              "   'series_url': '',\n",
              "   'publisher': \"O'Reilly Media\",\n",
              "   'publication_year': '2022',\n",
              "   'price': 'US$67.99',\n",
              "   'description': \"Data engineering has grown rapidly in the past decade, leaving many software engineers, data scientists, and analysts looking for a comprehensive view of this practice. With this practical book, you'll learn how to plan and build systems to serve the needs of your organization and customers by evaluating the best technologies available through the...\",\n",
              "   'is_preorder': False,\n",
              "   'is_available': True,\n",
              "   'preorder_url': '/account/preorder/?bookId=210595152',\n",
              "   'add_to_cart_url': '/cart/add/210595152/',\n",
              "   'currency_symbol': 'US$',\n",
              "   'price_number': 67.99,\n",
              "   'on_sale_date': '2022-06-22T00:00:00',\n",
              "   'short_publication_date': 'Jun 2022'},\n",
              "  {'id': 95729334,\n",
              "   'book_url': '/en-ng/book/95729334/designing-data-intensive-applications/martin-kleppmann/',\n",
              "   'image_url': 'https://image.ebooks.com/cover/95729334.jpg?width=97&height=150&quality=85',\n",
              "   'image_alt_tag': 'Designing Data-Intensive Applications: The Big Ideas Behind Reliable, Scalable, and Maintainable Systems',\n",
              "   'src_set': ' https://image.ebooks.com/cover/95729334.jpg?width=97&height=150&quality=85 1x,  https://image.ebooks.com/cover/95729334.jpg?width=194&height=300&quality=85 2x,  https://image.ebooks.com/cover/95729334.jpg?width=291&height=450&quality=85 3x,  https://image.ebooks.com/cover/95729334.jpg?width=388&height=600&quality=85 4x',\n",
              "   'image_width': 97,\n",
              "   'image_height': 150,\n",
              "   'title': 'Designing Data-Intensive Applications',\n",
              "   'edition': '',\n",
              "   'subtitle': 'The Big Ideas Behind Reliable, Scalable, and Maintainable Systems',\n",
              "   'authors': [{'name': 'Martin Kleppmann',\n",
              "     'normalised_name': None,\n",
              "     'landing_page': '/en-ng/author/martin-kleppmann/1321307/',\n",
              "     'precedence': 0,\n",
              "     'author_type_short': ''}],\n",
              "   'num_authors': 1,\n",
              "   'series': ' Series',\n",
              "   'series_number': '',\n",
              "   'has_series': False,\n",
              "   'series_url': '',\n",
              "   'publisher': \"O'Reilly Media\",\n",
              "   'publication_year': '2017',\n",
              "   'price': 'US$50.99',\n",
              "   'description': 'Data is at the center of many challenges in system design today. Difficult issues need to be figured out, such as scalability, consistency, reliability, efficiency, and maintainability. In addition, we have an overwhelming variety of tools, including relational databases, NoSQL datastores, stream or batch processors, and message brokers. What are...',\n",
              "   'is_preorder': False,\n",
              "   'is_available': True,\n",
              "   'preorder_url': '/account/preorder/?bookId=95729334',\n",
              "   'add_to_cart_url': '/cart/add/95729334/',\n",
              "   'currency_symbol': 'US$',\n",
              "   'price_number': 50.99,\n",
              "   'on_sale_date': '2017-03-16T00:00:00',\n",
              "   'short_publication_date': 'Mar 2017'},\n",
              "  {'id': 210671407,\n",
              "   'book_url': '/en-ng/book/210671407/c-software-design/klaus-iglberger/',\n",
              "   'image_url': 'https://image.ebooks.com/cover/210671407.jpg?width=97&height=150&quality=85',\n",
              "   'image_alt_tag': 'C&#x2B;&#x2B; Software Design',\n",
              "   'src_set': ' https://image.ebooks.com/cover/210671407.jpg?width=97&height=150&quality=85 1x,  https://image.ebooks.com/cover/210671407.jpg?width=194&height=300&quality=85 2x,  https://image.ebooks.com/cover/210671407.jpg?width=291&height=450&quality=85 3x,  https://image.ebooks.com/cover/210671407.jpg?width=388&height=600&quality=85 4x',\n",
              "   'image_width': 97,\n",
              "   'image_height': 150,\n",
              "   'title': 'C++ Software Design',\n",
              "   'edition': '',\n",
              "   'subtitle': '',\n",
              "   'authors': [{'name': 'Klaus Iglberger',\n",
              "     'normalised_name': None,\n",
              "     'landing_page': '/en-ng/author/klaus-iglberger/208723299/',\n",
              "     'precedence': 0,\n",
              "     'author_type_short': ''}],\n",
              "   'num_authors': 1,\n",
              "   'series': ' Series',\n",
              "   'series_number': '',\n",
              "   'has_series': False,\n",
              "   'series_url': '',\n",
              "   'publisher': \"O'Reilly Media\",\n",
              "   'publication_year': '2022',\n",
              "   'price': 'US$67.99',\n",
              "   'description': 'Good software design is essential for the success of your project, but designing software is hard to do. You need to have a deep understanding of the consequences of design decisions and a good overview of available design alternatives. With this book, experienced C++ developers will get a thorough, practical, and unparalleled overview of software...',\n",
              "   'is_preorder': False,\n",
              "   'is_available': True,\n",
              "   'preorder_url': '/account/preorder/?bookId=210671407',\n",
              "   'add_to_cart_url': '/cart/add/210671407/',\n",
              "   'currency_symbol': 'US$',\n",
              "   'price_number': 67.99,\n",
              "   'on_sale_date': '2022-09-21T00:00:00',\n",
              "   'short_publication_date': 'Sep 2022'},\n",
              "  {'id': 210856972,\n",
              "   'book_url': '/en-ng/book/210856972/css-the-definitive-guide/eric-meyer/',\n",
              "   'image_url': 'https://image.ebooks.com/cover/210856972.jpg?width=97&height=150&quality=85',\n",
              "   'image_alt_tag': 'CSS: The Definitive Guide',\n",
              "   'src_set': ' https://image.ebooks.com/cover/210856972.jpg?width=97&height=150&quality=85 1x,  https://image.ebooks.com/cover/210856972.jpg?width=194&height=300&quality=85 2x,  https://image.ebooks.com/cover/210856972.jpg?width=291&height=450&quality=85 3x,  https://image.ebooks.com/cover/210856972.jpg?width=388&height=600&quality=85 4x',\n",
              "   'image_width': 97,\n",
              "   'image_height': 150,\n",
              "   'title': 'CSS: The Definitive Guide',\n",
              "   'edition': ' (5th ed.)',\n",
              "   'subtitle': '',\n",
              "   'authors': [{'name': 'Eric Meyer',\n",
              "     'normalised_name': None,\n",
              "     'landing_page': '/en-ng/author/eric-meyer/241774/',\n",
              "     'precedence': 0,\n",
              "     'author_type_short': ''},\n",
              "    {'name': 'Estelle Weyl',\n",
              "     'normalised_name': None,\n",
              "     'landing_page': '/en-ng/author/estelle-weyl/502215/',\n",
              "     'precedence': 0,\n",
              "     'author_type_short': ''}],\n",
              "   'num_authors': 2,\n",
              "   'series': ' Series',\n",
              "   'series_number': '',\n",
              "   'has_series': False,\n",
              "   'series_url': '',\n",
              "   'publisher': \"O'Reilly Media\",\n",
              "   'publication_year': '2023',\n",
              "   'price': 'US$76.99',\n",
              "   'description': \"If you're a web designer or app developer interested in sophisticated page styling, improved accessibility, and less time and effort expended, this book is for you. This revised fifth edition provides a comprehensive guide to CSS implementation along with a thorough review of the latest CSS specifications.  Authors Eric Meyer and Estelle Weyl show...\",\n",
              "   'is_preorder': False,\n",
              "   'is_available': True,\n",
              "   'preorder_url': '/account/preorder/?bookId=210856972',\n",
              "   'add_to_cart_url': '/cart/add/210856972/',\n",
              "   'currency_symbol': 'US$',\n",
              "   'price_number': 76.99,\n",
              "   'on_sale_date': '2023-05-30T00:00:00',\n",
              "   'short_publication_date': 'May 2023'},\n",
              "  {'id': 210338899,\n",
              "   'book_url': '/en-ng/book/210338899/building-microservices/sam-newman/',\n",
              "   'image_url': 'https://image.ebooks.com/cover/210338899.jpg?width=97&height=150&quality=85',\n",
              "   'image_alt_tag': 'Building Microservices',\n",
              "   'src_set': ' https://image.ebooks.com/cover/210338899.jpg?width=97&height=150&quality=85 1x,  https://image.ebooks.com/cover/210338899.jpg?width=194&height=300&quality=85 2x,  https://image.ebooks.com/cover/210338899.jpg?width=291&height=450&quality=85 3x,  https://image.ebooks.com/cover/210338899.jpg?width=388&height=600&quality=85 4x',\n",
              "   'image_width': 97,\n",
              "   'image_height': 150,\n",
              "   'title': 'Building Microservices',\n",
              "   'edition': ' (2nd ed.)',\n",
              "   'subtitle': '',\n",
              "   'authors': [{'name': 'Sam Newman',\n",
              "     'normalised_name': None,\n",
              "     'landing_page': '/en-ng/author/sam-newman/748359/',\n",
              "     'precedence': 0,\n",
              "     'author_type_short': ''}],\n",
              "   'num_authors': 1,\n",
              "   'series': ' Series',\n",
              "   'series_number': '',\n",
              "   'has_series': False,\n",
              "   'series_url': '',\n",
              "   'publisher': \"O'Reilly Media\",\n",
              "   'publication_year': '2021',\n",
              "   'price': 'US$67.99',\n",
              "   'description': 'As organizations shift from monolithic applications to smaller, self-contained microservices, distributed systems have become more fine-grained. But developing these new systems brings its own host of problems. This expanded second edition takes a holistic view of topics that you need to consider when building, managing, and scaling microservices...',\n",
              "   'is_preorder': False,\n",
              "   'is_available': True,\n",
              "   'preorder_url': '/account/preorder/?bookId=210338899',\n",
              "   'add_to_cart_url': '/cart/add/210338899/',\n",
              "   'currency_symbol': 'US$',\n",
              "   'price_number': 67.99,\n",
              "   'on_sale_date': '2021-07-24T00:00:00',\n",
              "   'short_publication_date': 'Jul 2021'},\n",
              "  {'id': 210860043,\n",
              "   'book_url': '/en-ng/book/210860043/learning-git/anna-skoulikari/',\n",
              "   'image_url': 'https://image.ebooks.com/cover/210860043.jpg?width=97&height=150&quality=85',\n",
              "   'image_alt_tag': 'Learning Git',\n",
              "   'src_set': ' https://image.ebooks.com/cover/210860043.jpg?width=97&height=150&quality=85 1x,  https://image.ebooks.com/cover/210860043.jpg?width=194&height=300&quality=85 2x,  https://image.ebooks.com/cover/210860043.jpg?width=291&height=450&quality=85 3x,  https://image.ebooks.com/cover/210860043.jpg?width=388&height=600&quality=85 4x',\n",
              "   'image_width': 97,\n",
              "   'image_height': 150,\n",
              "   'title': 'Learning Git',\n",
              "   'edition': '',\n",
              "   'subtitle': '',\n",
              "   'authors': [{'name': 'Anna Skoulikari',\n",
              "     'normalised_name': None,\n",
              "     'landing_page': '/en-ng/author/anna-skoulikari/208813135/',\n",
              "     'precedence': 0,\n",
              "     'author_type_short': ''}],\n",
              "   'num_authors': 1,\n",
              "   'series': ' Series',\n",
              "   'series_number': '',\n",
              "   'has_series': False,\n",
              "   'series_url': '',\n",
              "   'publisher': \"O'Reilly Media\",\n",
              "   'publication_year': '2023',\n",
              "   'price': 'US$39.99',\n",
              "   'description': \"This book teaches Git in a simple, visual, and tangible manner so that you can build a solid mental model of how Git version control works. Through the use of color, storytelling, and hands-on exercises, you will learn to use this tool with confidence.  The information is introduced incrementally so that you don't get bogged down with unknown terms...\",\n",
              "   'is_preorder': False,\n",
              "   'is_available': True,\n",
              "   'preorder_url': '/account/preorder/?bookId=210860043',\n",
              "   'add_to_cart_url': '/cart/add/210860043/',\n",
              "   'currency_symbol': 'US$',\n",
              "   'price_number': 39.99,\n",
              "   'on_sale_date': '2023-06-05T00:00:00',\n",
              "   'short_publication_date': 'May 2023'}],\n",
              " 'pages': [{'number': '1',\n",
              "   'is_selected': True,\n",
              "   'show_mobile': True,\n",
              "   'show_tablet': True,\n",
              "   'search_url': '/en-ng/subjects/computers/'},\n",
              "  {'number': '2',\n",
              "   'is_selected': False,\n",
              "   'show_mobile': True,\n",
              "   'show_tablet': True,\n",
              "   'search_url': '/en-ng/subjects/computers/?pageNumber=2'},\n",
              "  {'number': '3',\n",
              "   'is_selected': False,\n",
              "   'show_mobile': True,\n",
              "   'show_tablet': True,\n",
              "   'search_url': '/en-ng/subjects/computers/?pageNumber=3'},\n",
              "  {'number': '4',\n",
              "   'is_selected': False,\n",
              "   'show_mobile': True,\n",
              "   'show_tablet': True,\n",
              "   'search_url': '/en-ng/subjects/computers/?pageNumber=4'},\n",
              "  {'number': '5',\n",
              "   'is_selected': False,\n",
              "   'show_mobile': True,\n",
              "   'show_tablet': True,\n",
              "   'search_url': '/en-ng/subjects/computers/?pageNumber=5'},\n",
              "  {'number': '6',\n",
              "   'is_selected': False,\n",
              "   'show_mobile': False,\n",
              "   'show_tablet': True,\n",
              "   'search_url': '/en-ng/subjects/computers/?pageNumber=6'},\n",
              "  {'number': '7',\n",
              "   'is_selected': False,\n",
              "   'show_mobile': False,\n",
              "   'show_tablet': True,\n",
              "   'search_url': '/en-ng/subjects/computers/?pageNumber=7'},\n",
              "  {'number': '8',\n",
              "   'is_selected': False,\n",
              "   'show_mobile': False,\n",
              "   'show_tablet': True,\n",
              "   'search_url': '/en-ng/subjects/computers/?pageNumber=8'},\n",
              "  {'number': '9',\n",
              "   'is_selected': False,\n",
              "   'show_mobile': False,\n",
              "   'show_tablet': False,\n",
              "   'search_url': '/en-ng/subjects/computers/?pageNumber=9'}],\n",
              " 'previous_page': None,\n",
              " 'next_page': '/en-ng/subjects/computers/?pageNumber=2'}"
            ]
          },
          "metadata": {},
          "execution_count": 4
        }
      ],
      "source": [
        "response.json()"
      ]
    },
    {
      "cell_type": "code",
      "execution_count": null,
      "metadata": {
        "colab": {
          "base_uri": "https://localhost:8080/"
        },
        "id": "6L2KDYg1QGf9",
        "outputId": "94df2649-02ca-4f9c-9795-3875fe53cb5b"
      },
      "outputs": [
        {
          "output_type": "execute_result",
          "data": {
            "text/plain": [
              "dict"
            ]
          },
          "metadata": {},
          "execution_count": 5
        }
      ],
      "source": [
        "type(response.json())"
      ]
    },
    {
      "cell_type": "markdown",
      "metadata": {
        "id": "vO98LAv7QGf-"
      },
      "source": [
        "#### Step 5 - Output Keys"
      ]
    },
    {
      "cell_type": "code",
      "execution_count": 5,
      "metadata": {
        "colab": {
          "base_uri": "https://localhost:8080/"
        },
        "id": "VNg68qbJQGf-",
        "outputId": "068bd22b-0d57-450f-a801-d9da19fb1653"
      },
      "outputs": [
        {
          "output_type": "execute_result",
          "data": {
            "text/plain": [
              "dict_keys(['search_term', 'start_record', 'total_results', 'books', 'pages', 'previous_page', 'next_page'])"
            ]
          },
          "metadata": {},
          "execution_count": 5
        }
      ],
      "source": [
        "response.json().keys()"
      ]
    },
    {
      "cell_type": "markdown",
      "metadata": {
        "id": "3b9FLTcUQGf-"
      },
      "source": [
        "#### Step 6 - Find your Data"
      ]
    },
    {
      "cell_type": "code",
      "execution_count": null,
      "metadata": {
        "id": "vmfFryBWQGf-"
      },
      "outputs": [],
      "source": [
        "# title\n",
        "# subtitle\n",
        "# author\n",
        "# publisher\n",
        "# publication year\n",
        "# price"
      ]
    },
    {
      "cell_type": "code",
      "execution_count": 6,
      "metadata": {
        "id": "_mprsn_2QGf_",
        "colab": {
          "base_uri": "https://localhost:8080/"
        },
        "outputId": "6540698f-7a4c-425d-9e41-c093702a6847"
      },
      "outputs": [
        {
          "output_type": "execute_result",
          "data": {
            "text/plain": [
              "[{'id': 210833591,\n",
              "  'book_url': '/en-ng/book/210833591/generative-deep-learning/david-foster/',\n",
              "  'image_url': 'https://image.ebooks.com/cover/210833591.jpg?width=97&height=150&quality=85',\n",
              "  'image_alt_tag': 'Generative Deep Learning',\n",
              "  'src_set': ' https://image.ebooks.com/cover/210833591.jpg?width=97&height=150&quality=85 1x,  https://image.ebooks.com/cover/210833591.jpg?width=194&height=300&quality=85 2x,  https://image.ebooks.com/cover/210833591.jpg?width=291&height=450&quality=85 3x,  https://image.ebooks.com/cover/210833591.jpg?width=388&height=600&quality=85 4x',\n",
              "  'image_width': 97,\n",
              "  'image_height': 150,\n",
              "  'title': 'Generative Deep Learning',\n",
              "  'edition': ' (2nd ed.)',\n",
              "  'subtitle': '',\n",
              "  'authors': [{'name': 'David Foster',\n",
              "    'normalised_name': None,\n",
              "    'landing_page': '/en-ng/author/david-foster/7762/',\n",
              "    'precedence': 0,\n",
              "    'author_type_short': ''}],\n",
              "  'num_authors': 1,\n",
              "  'series': ' Series',\n",
              "  'series_number': '',\n",
              "  'has_series': False,\n",
              "  'series_url': '',\n",
              "  'publisher': \"O'Reilly Media\",\n",
              "  'publication_year': '2022',\n",
              "  'price': 'US$67.99',\n",
              "  'description': 'Generative AI is the hottest topic in tech. This practical book teaches machine learning engineers and data scientists how to use TensorFlow and Keras to create impressive generative deep learning models from scratch, including variational autoencoders (VAEs), generative adversarial networks (GANs), Transformers, normalizing flows, energy-based...',\n",
              "  'is_preorder': False,\n",
              "  'is_available': True,\n",
              "  'preorder_url': '/account/preorder/?bookId=210833591',\n",
              "  'add_to_cart_url': '/cart/add/210833591/',\n",
              "  'currency_symbol': 'US$',\n",
              "  'price_number': 67.99,\n",
              "  'on_sale_date': '2023-04-28T00:00:00',\n",
              "  'short_publication_date': 'Jun 2022'},\n",
              " {'id': 210531368,\n",
              "  'book_url': '/en-ng/book/210531368/fluent-python/luciano-ramalho/',\n",
              "  'image_url': 'https://image.ebooks.com/cover/210531368.jpg?width=97&height=150&quality=85',\n",
              "  'image_alt_tag': 'Fluent Python',\n",
              "  'src_set': ' https://image.ebooks.com/cover/210531368.jpg?width=97&height=150&quality=85 1x,  https://image.ebooks.com/cover/210531368.jpg?width=194&height=300&quality=85 2x,  https://image.ebooks.com/cover/210531368.jpg?width=291&height=450&quality=85 3x,  https://image.ebooks.com/cover/210531368.jpg?width=388&height=600&quality=85 4x',\n",
              "  'image_width': 97,\n",
              "  'image_height': 150,\n",
              "  'title': 'Fluent Python',\n",
              "  'edition': ' (2nd ed.)',\n",
              "  'subtitle': '',\n",
              "  'authors': [{'name': 'Luciano Ramalho',\n",
              "    'normalised_name': None,\n",
              "    'landing_page': '/en-ng/author/luciano-ramalho/983436/',\n",
              "    'precedence': 0,\n",
              "    'author_type_short': ''}],\n",
              "  'num_authors': 1,\n",
              "  'series': ' Series',\n",
              "  'series_number': '',\n",
              "  'has_series': False,\n",
              "  'series_url': '',\n",
              "  'publisher': \"O'Reilly Media\",\n",
              "  'publication_year': '2022',\n",
              "  'price': 'US$67.99',\n",
              "  'description': \"Don't waste time bending Python to fit patterns you've learned in other languages. Python's simplicity lets you become productive quickly, but often this means you aren't using everything the language has to offer. With the updated edition of this hands-on guide, you'll learn how to write effective, modern Python 3 code by leveraging its best...\",\n",
              "  'is_preorder': False,\n",
              "  'is_available': True,\n",
              "  'preorder_url': '/account/preorder/?bookId=210531368',\n",
              "  'add_to_cart_url': '/cart/add/210531368/',\n",
              "  'currency_symbol': 'US$',\n",
              "  'price_number': 67.99,\n",
              "  'on_sale_date': '2022-03-31T00:00:00',\n",
              "  'short_publication_date': 'Mar 2022'},\n",
              " {'id': 210670147,\n",
              "  'book_url': '/en-ng/book/210670147/the-staff-engineer-s-path/tanya-reilly/',\n",
              "  'image_url': 'https://image.ebooks.com/cover/210670147.jpg?width=97&height=150&quality=85',\n",
              "  'image_alt_tag': 'The Staff Engineer&#x27;s Path',\n",
              "  'src_set': ' https://image.ebooks.com/cover/210670147.jpg?width=97&height=150&quality=85 1x,  https://image.ebooks.com/cover/210670147.jpg?width=194&height=300&quality=85 2x,  https://image.ebooks.com/cover/210670147.jpg?width=291&height=450&quality=85 3x,  https://image.ebooks.com/cover/210670147.jpg?width=388&height=600&quality=85 4x',\n",
              "  'image_width': 97,\n",
              "  'image_height': 150,\n",
              "  'title': \"The Staff Engineer's Path\",\n",
              "  'edition': '',\n",
              "  'subtitle': '',\n",
              "  'authors': [{'name': 'Tanya Reilly',\n",
              "    'normalised_name': None,\n",
              "    'landing_page': '/en-ng/author/tanya-reilly/208722527/',\n",
              "    'precedence': 0,\n",
              "    'author_type_short': ''}],\n",
              "  'num_authors': 1,\n",
              "  'series': ' Series',\n",
              "  'series_number': '',\n",
              "  'has_series': False,\n",
              "  'series_url': '',\n",
              "  'publisher': \"O'Reilly Media\",\n",
              "  'publication_year': '2022',\n",
              "  'price': 'US$33.99',\n",
              "  'description': \"For years, companies have rewarded their most effective engineers with management positions. But treating management as the default path for an engineer with leadership ability doesn't serve the industry well--or the engineer. The staff engineer's path allows engineers to contribute at a high level as role models, driving big projects, determining...\",\n",
              "  'is_preorder': False,\n",
              "  'is_available': True,\n",
              "  'preorder_url': '/account/preorder/?bookId=210670147',\n",
              "  'add_to_cart_url': '/cart/add/210670147/',\n",
              "  'currency_symbol': 'US$',\n",
              "  'price_number': 33.99,\n",
              "  'on_sale_date': '2022-09-20T00:00:00',\n",
              "  'short_publication_date': 'Sep 2022'},\n",
              " {'id': 210681725,\n",
              "  'book_url': '/en-ng/book/210681725/hands-on-machine-learning-with-scikit-learn-keras-and-tensorflow/aur-lien-g-ron/',\n",
              "  'image_url': 'https://image.ebooks.com/cover/210681725.jpg?width=97&height=150&quality=85',\n",
              "  'image_alt_tag': 'Hands-On Machine Learning with Scikit-Learn, Keras, and TensorFlow',\n",
              "  'src_set': ' https://image.ebooks.com/cover/210681725.jpg?width=97&height=150&quality=85 1x,  https://image.ebooks.com/cover/210681725.jpg?width=194&height=300&quality=85 2x,  https://image.ebooks.com/cover/210681725.jpg?width=291&height=450&quality=85 3x,  https://image.ebooks.com/cover/210681725.jpg?width=388&height=600&quality=85 4x',\n",
              "  'image_width': 97,\n",
              "  'image_height': 150,\n",
              "  'title': 'Hands-On Machine Learning with Scikit-Learn, Keras, and TensorFlow',\n",
              "  'edition': ' (3rd ed.)',\n",
              "  'subtitle': '',\n",
              "  'authors': [{'name': 'Aurélien Géron',\n",
              "    'normalised_name': None,\n",
              "    'landing_page': '/en-ng/author/aurélien-géron/1320636/',\n",
              "    'precedence': 0,\n",
              "    'author_type_short': ''}],\n",
              "  'num_authors': 1,\n",
              "  'series': ' Series',\n",
              "  'series_number': '',\n",
              "  'has_series': False,\n",
              "  'series_url': '',\n",
              "  'publisher': \"O'Reilly Media\",\n",
              "  'publication_year': '2022',\n",
              "  'price': 'US$76.99',\n",
              "  'description': 'Through a recent series of breakthroughs, deep learning has boosted the entire field of machine learning. Now, even programmers who know close to nothing about this technology can use simple, efficient tools to implement programs capable of learning from data. This bestselling book uses concrete examples, minimal theory, and production-ready Python...',\n",
              "  'is_preorder': False,\n",
              "  'is_available': True,\n",
              "  'preorder_url': '/account/preorder/?bookId=210681725',\n",
              "  'add_to_cart_url': '/cart/add/210681725/',\n",
              "  'currency_symbol': 'US$',\n",
              "  'price_number': 76.99,\n",
              "  'on_sale_date': '2022-10-04T00:00:00',\n",
              "  'short_publication_date': 'Oct 2022'},\n",
              " {'id': 210595152,\n",
              "  'book_url': '/en-ng/book/210595152/fundamentals-of-data-engineering/joe-reis/',\n",
              "  'image_url': 'https://image.ebooks.com/cover/210595152.jpg?width=97&height=150&quality=85',\n",
              "  'image_alt_tag': 'Fundamentals of Data Engineering',\n",
              "  'src_set': ' https://image.ebooks.com/cover/210595152.jpg?width=97&height=150&quality=85 1x,  https://image.ebooks.com/cover/210595152.jpg?width=194&height=300&quality=85 2x,  https://image.ebooks.com/cover/210595152.jpg?width=291&height=450&quality=85 3x,  https://image.ebooks.com/cover/210595152.jpg?width=388&height=600&quality=85 4x',\n",
              "  'image_width': 97,\n",
              "  'image_height': 150,\n",
              "  'title': 'Fundamentals of Data Engineering',\n",
              "  'edition': '',\n",
              "  'subtitle': '',\n",
              "  'authors': [{'name': 'Joe Reis',\n",
              "    'normalised_name': None,\n",
              "    'landing_page': '/en-ng/author/joe-reis/208694572/',\n",
              "    'precedence': 0,\n",
              "    'author_type_short': ''},\n",
              "   {'name': 'Matt Housley',\n",
              "    'normalised_name': None,\n",
              "    'landing_page': '/en-ng/author/matt-housley/208694573/',\n",
              "    'precedence': 0,\n",
              "    'author_type_short': ''}],\n",
              "  'num_authors': 2,\n",
              "  'series': ' Series',\n",
              "  'series_number': '',\n",
              "  'has_series': False,\n",
              "  'series_url': '',\n",
              "  'publisher': \"O'Reilly Media\",\n",
              "  'publication_year': '2022',\n",
              "  'price': 'US$67.99',\n",
              "  'description': \"Data engineering has grown rapidly in the past decade, leaving many software engineers, data scientists, and analysts looking for a comprehensive view of this practice. With this practical book, you'll learn how to plan and build systems to serve the needs of your organization and customers by evaluating the best technologies available through the...\",\n",
              "  'is_preorder': False,\n",
              "  'is_available': True,\n",
              "  'preorder_url': '/account/preorder/?bookId=210595152',\n",
              "  'add_to_cart_url': '/cart/add/210595152/',\n",
              "  'currency_symbol': 'US$',\n",
              "  'price_number': 67.99,\n",
              "  'on_sale_date': '2022-06-22T00:00:00',\n",
              "  'short_publication_date': 'Jun 2022'},\n",
              " {'id': 95729334,\n",
              "  'book_url': '/en-ng/book/95729334/designing-data-intensive-applications/martin-kleppmann/',\n",
              "  'image_url': 'https://image.ebooks.com/cover/95729334.jpg?width=97&height=150&quality=85',\n",
              "  'image_alt_tag': 'Designing Data-Intensive Applications: The Big Ideas Behind Reliable, Scalable, and Maintainable Systems',\n",
              "  'src_set': ' https://image.ebooks.com/cover/95729334.jpg?width=97&height=150&quality=85 1x,  https://image.ebooks.com/cover/95729334.jpg?width=194&height=300&quality=85 2x,  https://image.ebooks.com/cover/95729334.jpg?width=291&height=450&quality=85 3x,  https://image.ebooks.com/cover/95729334.jpg?width=388&height=600&quality=85 4x',\n",
              "  'image_width': 97,\n",
              "  'image_height': 150,\n",
              "  'title': 'Designing Data-Intensive Applications',\n",
              "  'edition': '',\n",
              "  'subtitle': 'The Big Ideas Behind Reliable, Scalable, and Maintainable Systems',\n",
              "  'authors': [{'name': 'Martin Kleppmann',\n",
              "    'normalised_name': None,\n",
              "    'landing_page': '/en-ng/author/martin-kleppmann/1321307/',\n",
              "    'precedence': 0,\n",
              "    'author_type_short': ''}],\n",
              "  'num_authors': 1,\n",
              "  'series': ' Series',\n",
              "  'series_number': '',\n",
              "  'has_series': False,\n",
              "  'series_url': '',\n",
              "  'publisher': \"O'Reilly Media\",\n",
              "  'publication_year': '2017',\n",
              "  'price': 'US$50.99',\n",
              "  'description': 'Data is at the center of many challenges in system design today. Difficult issues need to be figured out, such as scalability, consistency, reliability, efficiency, and maintainability. In addition, we have an overwhelming variety of tools, including relational databases, NoSQL datastores, stream or batch processors, and message brokers. What are...',\n",
              "  'is_preorder': False,\n",
              "  'is_available': True,\n",
              "  'preorder_url': '/account/preorder/?bookId=95729334',\n",
              "  'add_to_cart_url': '/cart/add/95729334/',\n",
              "  'currency_symbol': 'US$',\n",
              "  'price_number': 50.99,\n",
              "  'on_sale_date': '2017-03-16T00:00:00',\n",
              "  'short_publication_date': 'Mar 2017'},\n",
              " {'id': 210671407,\n",
              "  'book_url': '/en-ng/book/210671407/c-software-design/klaus-iglberger/',\n",
              "  'image_url': 'https://image.ebooks.com/cover/210671407.jpg?width=97&height=150&quality=85',\n",
              "  'image_alt_tag': 'C&#x2B;&#x2B; Software Design',\n",
              "  'src_set': ' https://image.ebooks.com/cover/210671407.jpg?width=97&height=150&quality=85 1x,  https://image.ebooks.com/cover/210671407.jpg?width=194&height=300&quality=85 2x,  https://image.ebooks.com/cover/210671407.jpg?width=291&height=450&quality=85 3x,  https://image.ebooks.com/cover/210671407.jpg?width=388&height=600&quality=85 4x',\n",
              "  'image_width': 97,\n",
              "  'image_height': 150,\n",
              "  'title': 'C++ Software Design',\n",
              "  'edition': '',\n",
              "  'subtitle': '',\n",
              "  'authors': [{'name': 'Klaus Iglberger',\n",
              "    'normalised_name': None,\n",
              "    'landing_page': '/en-ng/author/klaus-iglberger/208723299/',\n",
              "    'precedence': 0,\n",
              "    'author_type_short': ''}],\n",
              "  'num_authors': 1,\n",
              "  'series': ' Series',\n",
              "  'series_number': '',\n",
              "  'has_series': False,\n",
              "  'series_url': '',\n",
              "  'publisher': \"O'Reilly Media\",\n",
              "  'publication_year': '2022',\n",
              "  'price': 'US$67.99',\n",
              "  'description': 'Good software design is essential for the success of your project, but designing software is hard to do. You need to have a deep understanding of the consequences of design decisions and a good overview of available design alternatives. With this book, experienced C++ developers will get a thorough, practical, and unparalleled overview of software...',\n",
              "  'is_preorder': False,\n",
              "  'is_available': True,\n",
              "  'preorder_url': '/account/preorder/?bookId=210671407',\n",
              "  'add_to_cart_url': '/cart/add/210671407/',\n",
              "  'currency_symbol': 'US$',\n",
              "  'price_number': 67.99,\n",
              "  'on_sale_date': '2022-09-21T00:00:00',\n",
              "  'short_publication_date': 'Sep 2022'},\n",
              " {'id': 210856972,\n",
              "  'book_url': '/en-ng/book/210856972/css-the-definitive-guide/eric-meyer/',\n",
              "  'image_url': 'https://image.ebooks.com/cover/210856972.jpg?width=97&height=150&quality=85',\n",
              "  'image_alt_tag': 'CSS: The Definitive Guide',\n",
              "  'src_set': ' https://image.ebooks.com/cover/210856972.jpg?width=97&height=150&quality=85 1x,  https://image.ebooks.com/cover/210856972.jpg?width=194&height=300&quality=85 2x,  https://image.ebooks.com/cover/210856972.jpg?width=291&height=450&quality=85 3x,  https://image.ebooks.com/cover/210856972.jpg?width=388&height=600&quality=85 4x',\n",
              "  'image_width': 97,\n",
              "  'image_height': 150,\n",
              "  'title': 'CSS: The Definitive Guide',\n",
              "  'edition': ' (5th ed.)',\n",
              "  'subtitle': '',\n",
              "  'authors': [{'name': 'Eric Meyer',\n",
              "    'normalised_name': None,\n",
              "    'landing_page': '/en-ng/author/eric-meyer/241774/',\n",
              "    'precedence': 0,\n",
              "    'author_type_short': ''},\n",
              "   {'name': 'Estelle Weyl',\n",
              "    'normalised_name': None,\n",
              "    'landing_page': '/en-ng/author/estelle-weyl/502215/',\n",
              "    'precedence': 0,\n",
              "    'author_type_short': ''}],\n",
              "  'num_authors': 2,\n",
              "  'series': ' Series',\n",
              "  'series_number': '',\n",
              "  'has_series': False,\n",
              "  'series_url': '',\n",
              "  'publisher': \"O'Reilly Media\",\n",
              "  'publication_year': '2023',\n",
              "  'price': 'US$76.99',\n",
              "  'description': \"If you're a web designer or app developer interested in sophisticated page styling, improved accessibility, and less time and effort expended, this book is for you. This revised fifth edition provides a comprehensive guide to CSS implementation along with a thorough review of the latest CSS specifications.  Authors Eric Meyer and Estelle Weyl show...\",\n",
              "  'is_preorder': False,\n",
              "  'is_available': True,\n",
              "  'preorder_url': '/account/preorder/?bookId=210856972',\n",
              "  'add_to_cart_url': '/cart/add/210856972/',\n",
              "  'currency_symbol': 'US$',\n",
              "  'price_number': 76.99,\n",
              "  'on_sale_date': '2023-05-30T00:00:00',\n",
              "  'short_publication_date': 'May 2023'},\n",
              " {'id': 210338899,\n",
              "  'book_url': '/en-ng/book/210338899/building-microservices/sam-newman/',\n",
              "  'image_url': 'https://image.ebooks.com/cover/210338899.jpg?width=97&height=150&quality=85',\n",
              "  'image_alt_tag': 'Building Microservices',\n",
              "  'src_set': ' https://image.ebooks.com/cover/210338899.jpg?width=97&height=150&quality=85 1x,  https://image.ebooks.com/cover/210338899.jpg?width=194&height=300&quality=85 2x,  https://image.ebooks.com/cover/210338899.jpg?width=291&height=450&quality=85 3x,  https://image.ebooks.com/cover/210338899.jpg?width=388&height=600&quality=85 4x',\n",
              "  'image_width': 97,\n",
              "  'image_height': 150,\n",
              "  'title': 'Building Microservices',\n",
              "  'edition': ' (2nd ed.)',\n",
              "  'subtitle': '',\n",
              "  'authors': [{'name': 'Sam Newman',\n",
              "    'normalised_name': None,\n",
              "    'landing_page': '/en-ng/author/sam-newman/748359/',\n",
              "    'precedence': 0,\n",
              "    'author_type_short': ''}],\n",
              "  'num_authors': 1,\n",
              "  'series': ' Series',\n",
              "  'series_number': '',\n",
              "  'has_series': False,\n",
              "  'series_url': '',\n",
              "  'publisher': \"O'Reilly Media\",\n",
              "  'publication_year': '2021',\n",
              "  'price': 'US$67.99',\n",
              "  'description': 'As organizations shift from monolithic applications to smaller, self-contained microservices, distributed systems have become more fine-grained. But developing these new systems brings its own host of problems. This expanded second edition takes a holistic view of topics that you need to consider when building, managing, and scaling microservices...',\n",
              "  'is_preorder': False,\n",
              "  'is_available': True,\n",
              "  'preorder_url': '/account/preorder/?bookId=210338899',\n",
              "  'add_to_cart_url': '/cart/add/210338899/',\n",
              "  'currency_symbol': 'US$',\n",
              "  'price_number': 67.99,\n",
              "  'on_sale_date': '2021-07-24T00:00:00',\n",
              "  'short_publication_date': 'Jul 2021'},\n",
              " {'id': 210860043,\n",
              "  'book_url': '/en-ng/book/210860043/learning-git/anna-skoulikari/',\n",
              "  'image_url': 'https://image.ebooks.com/cover/210860043.jpg?width=97&height=150&quality=85',\n",
              "  'image_alt_tag': 'Learning Git',\n",
              "  'src_set': ' https://image.ebooks.com/cover/210860043.jpg?width=97&height=150&quality=85 1x,  https://image.ebooks.com/cover/210860043.jpg?width=194&height=300&quality=85 2x,  https://image.ebooks.com/cover/210860043.jpg?width=291&height=450&quality=85 3x,  https://image.ebooks.com/cover/210860043.jpg?width=388&height=600&quality=85 4x',\n",
              "  'image_width': 97,\n",
              "  'image_height': 150,\n",
              "  'title': 'Learning Git',\n",
              "  'edition': '',\n",
              "  'subtitle': '',\n",
              "  'authors': [{'name': 'Anna Skoulikari',\n",
              "    'normalised_name': None,\n",
              "    'landing_page': '/en-ng/author/anna-skoulikari/208813135/',\n",
              "    'precedence': 0,\n",
              "    'author_type_short': ''}],\n",
              "  'num_authors': 1,\n",
              "  'series': ' Series',\n",
              "  'series_number': '',\n",
              "  'has_series': False,\n",
              "  'series_url': '',\n",
              "  'publisher': \"O'Reilly Media\",\n",
              "  'publication_year': '2023',\n",
              "  'price': 'US$39.99',\n",
              "  'description': \"This book teaches Git in a simple, visual, and tangible manner so that you can build a solid mental model of how Git version control works. Through the use of color, storytelling, and hands-on exercises, you will learn to use this tool with confidence.  The information is introduced incrementally so that you don't get bogged down with unknown terms...\",\n",
              "  'is_preorder': False,\n",
              "  'is_available': True,\n",
              "  'preorder_url': '/account/preorder/?bookId=210860043',\n",
              "  'add_to_cart_url': '/cart/add/210860043/',\n",
              "  'currency_symbol': 'US$',\n",
              "  'price_number': 39.99,\n",
              "  'on_sale_date': '2023-06-05T00:00:00',\n",
              "  'short_publication_date': 'May 2023'}]"
            ]
          },
          "metadata": {},
          "execution_count": 6
        }
      ],
      "source": [
        "response.json()['books']"
      ]
    },
    {
      "cell_type": "code",
      "execution_count": 7,
      "metadata": {
        "id": "VV8OBhIcQGf_"
      },
      "outputs": [],
      "source": [
        "results_json = response.json()['books']"
      ]
    },
    {
      "cell_type": "code",
      "execution_count": null,
      "metadata": {
        "colab": {
          "base_uri": "https://localhost:8080/"
        },
        "id": "RWr5bKBxQGf_",
        "outputId": "a06ff972-5fd1-4dec-f39c-f28990cfa463"
      },
      "outputs": [
        {
          "output_type": "execute_result",
          "data": {
            "text/plain": [
              "10"
            ]
          },
          "metadata": {},
          "execution_count": 9
        }
      ],
      "source": [
        "len(results_json)"
      ]
    },
    {
      "cell_type": "code",
      "execution_count": 8,
      "metadata": {
        "colab": {
          "base_uri": "https://localhost:8080/"
        },
        "id": "lZFv8P7dQGgA",
        "outputId": "8a18e54f-f129-433f-8fbb-73432496a5d8"
      },
      "outputs": [
        {
          "output_type": "execute_result",
          "data": {
            "text/plain": [
              "{'id': 210833591,\n",
              " 'book_url': '/en-ng/book/210833591/generative-deep-learning/david-foster/',\n",
              " 'image_url': 'https://image.ebooks.com/cover/210833591.jpg?width=97&height=150&quality=85',\n",
              " 'image_alt_tag': 'Generative Deep Learning',\n",
              " 'src_set': ' https://image.ebooks.com/cover/210833591.jpg?width=97&height=150&quality=85 1x,  https://image.ebooks.com/cover/210833591.jpg?width=194&height=300&quality=85 2x,  https://image.ebooks.com/cover/210833591.jpg?width=291&height=450&quality=85 3x,  https://image.ebooks.com/cover/210833591.jpg?width=388&height=600&quality=85 4x',\n",
              " 'image_width': 97,\n",
              " 'image_height': 150,\n",
              " 'title': 'Generative Deep Learning',\n",
              " 'edition': ' (2nd ed.)',\n",
              " 'subtitle': '',\n",
              " 'authors': [{'name': 'David Foster',\n",
              "   'normalised_name': None,\n",
              "   'landing_page': '/en-ng/author/david-foster/7762/',\n",
              "   'precedence': 0,\n",
              "   'author_type_short': ''}],\n",
              " 'num_authors': 1,\n",
              " 'series': ' Series',\n",
              " 'series_number': '',\n",
              " 'has_series': False,\n",
              " 'series_url': '',\n",
              " 'publisher': \"O'Reilly Media\",\n",
              " 'publication_year': '2022',\n",
              " 'price': 'US$67.99',\n",
              " 'description': 'Generative AI is the hottest topic in tech. This practical book teaches machine learning engineers and data scientists how to use TensorFlow and Keras to create impressive generative deep learning models from scratch, including variational autoencoders (VAEs), generative adversarial networks (GANs), Transformers, normalizing flows, energy-based...',\n",
              " 'is_preorder': False,\n",
              " 'is_available': True,\n",
              " 'preorder_url': '/account/preorder/?bookId=210833591',\n",
              " 'add_to_cart_url': '/cart/add/210833591/',\n",
              " 'currency_symbol': 'US$',\n",
              " 'price_number': 67.99,\n",
              " 'on_sale_date': '2023-04-28T00:00:00',\n",
              " 'short_publication_date': 'Jun 2022'}"
            ]
          },
          "metadata": {},
          "execution_count": 8
        }
      ],
      "source": [
        "results_json[0]"
      ]
    },
    {
      "cell_type": "code",
      "execution_count": null,
      "metadata": {
        "colab": {
          "base_uri": "https://localhost:8080/",
          "height": 35
        },
        "id": "-RfJ5FnmQGgA",
        "outputId": "d77d888b-652a-4fbd-f538-9af3d4a871ce"
      },
      "outputs": [
        {
          "output_type": "execute_result",
          "data": {
            "text/plain": [
              "'Generative Deep Learning'"
            ],
            "application/vnd.google.colaboratory.intrinsic+json": {
              "type": "string"
            }
          },
          "metadata": {},
          "execution_count": 12
        }
      ],
      "source": [
        "# title\n",
        "results_json[0]['title']"
      ]
    },
    {
      "cell_type": "code",
      "execution_count": null,
      "metadata": {
        "colab": {
          "base_uri": "https://localhost:8080/",
          "height": 35
        },
        "id": "JqjJVW55QGgA",
        "outputId": "afe24e86-84df-4b16-d557-5af5fa34dc8e"
      },
      "outputs": [
        {
          "output_type": "execute_result",
          "data": {
            "text/plain": [
              "''"
            ],
            "application/vnd.google.colaboratory.intrinsic+json": {
              "type": "string"
            }
          },
          "metadata": {},
          "execution_count": 12
        }
      ],
      "source": [
        "# subtitle\n",
        "results_json[0]['subtitle']"
      ]
    },
    {
      "cell_type": "code",
      "execution_count": null,
      "metadata": {
        "scrolled": true,
        "colab": {
          "base_uri": "https://localhost:8080/",
          "height": 35
        },
        "id": "wMnmJqo4QGgA",
        "outputId": "f26f951c-b18b-4e1f-d9d9-f1b8988abdaf"
      },
      "outputs": [
        {
          "output_type": "execute_result",
          "data": {
            "text/plain": [
              "'David Foster'"
            ],
            "application/vnd.google.colaboratory.intrinsic+json": {
              "type": "string"
            }
          },
          "metadata": {},
          "execution_count": 13
        }
      ],
      "source": [
        "# author\n",
        "results_json[0]['authors'][0]['name']"
      ]
    },
    {
      "cell_type": "code",
      "execution_count": null,
      "metadata": {
        "colab": {
          "base_uri": "https://localhost:8080/",
          "height": 35
        },
        "id": "uXPtK7NaQGgB",
        "outputId": "d6e5319d-1d67-44e0-ea84-f7e63e112060"
      },
      "outputs": [
        {
          "output_type": "execute_result",
          "data": {
            "text/plain": [
              "\"O'Reilly Media\""
            ],
            "application/vnd.google.colaboratory.intrinsic+json": {
              "type": "string"
            }
          },
          "metadata": {},
          "execution_count": 14
        }
      ],
      "source": [
        "# publisher\n",
        "results_json[0]['publisher']"
      ]
    },
    {
      "cell_type": "code",
      "execution_count": null,
      "metadata": {
        "colab": {
          "base_uri": "https://localhost:8080/",
          "height": 35
        },
        "id": "HcBpxs43QGgB",
        "outputId": "9fb3045c-cfaf-4b7e-aa1e-2515a0abe08d"
      },
      "outputs": [
        {
          "output_type": "execute_result",
          "data": {
            "text/plain": [
              "'2022'"
            ],
            "application/vnd.google.colaboratory.intrinsic+json": {
              "type": "string"
            }
          },
          "metadata": {},
          "execution_count": 15
        }
      ],
      "source": [
        "# publication year\n",
        "results_json[0]['publication_year']"
      ]
    },
    {
      "cell_type": "code",
      "execution_count": null,
      "metadata": {
        "colab": {
          "base_uri": "https://localhost:8080/",
          "height": 35
        },
        "id": "JxQWxb6HQGgB",
        "outputId": "2281405e-6074-49bd-d7de-b0eac9ef7e50"
      },
      "outputs": [
        {
          "output_type": "execute_result",
          "data": {
            "text/plain": [
              "'US$67.99'"
            ],
            "application/vnd.google.colaboratory.intrinsic+json": {
              "type": "string"
            }
          },
          "metadata": {},
          "execution_count": 16
        }
      ],
      "source": [
        "# price\n",
        "results_json[0]['price']"
      ]
    },
    {
      "cell_type": "code",
      "source": [],
      "metadata": {
        "id": "ve0FY88jg63X"
      },
      "execution_count": null,
      "outputs": []
    },
    {
      "cell_type": "markdown",
      "metadata": {
        "id": "YZvkmtsKQGgB"
      },
      "source": [
        "#### Step 7 - Put everything together - Loop through results and append data inside a list"
      ]
    },
    {
      "cell_type": "code",
      "execution_count": 9,
      "metadata": {
        "id": "jpMcDecTQGgC"
      },
      "outputs": [],
      "source": [
        "title = []\n",
        "subtitle = []\n",
        "author = []\n",
        "publisher = []\n",
        "publication_year = []\n",
        "price = []\n",
        "\n",
        "for result in results_json:\n",
        "\n",
        "    # title\n",
        "    title.append(result['title'])\n",
        "\n",
        "    # subtitle\n",
        "    subtitle.append(result['subtitle'])\n",
        "\n",
        "    # author\n",
        "    author.append(result['authors'][0]['name'])\n",
        "\n",
        "    # publisher\n",
        "    publisher.append(result['publisher'])\n",
        "\n",
        "    # publication_year\n",
        "    publication_year.append(result['publication_year'])\n",
        "\n",
        "    # price\n",
        "    price.append(result['price'])\n"
      ]
    },
    {
      "cell_type": "code",
      "execution_count": null,
      "metadata": {
        "id": "Nnv4l2K-QGgC",
        "outputId": "b34a8b1a-4115-4097-e630-edd5154e01f6"
      },
      "outputs": [
        {
          "data": {
            "text/plain": [
              "['David Foster',\n",
              " 'Tanya Reilly',\n",
              " 'Martin Kleppmann',\n",
              " 'Addy Osmani',\n",
              " 'Aurélien Géron',\n",
              " 'Sam Newman',\n",
              " 'Luciano Ramalho',\n",
              " 'Joe Reis',\n",
              " 'Vlad Khononov',\n",
              " 'Dan Vanderkam']"
            ]
          },
          "execution_count": 20,
          "metadata": {},
          "output_type": "execute_result"
        }
      ],
      "source": [
        "# double check\n",
        "author"
      ]
    },
    {
      "cell_type": "markdown",
      "metadata": {
        "id": "JsCl9ORQQGgC"
      },
      "source": [
        "#### Step 8 - Pandas Dataframe"
      ]
    },
    {
      "cell_type": "code",
      "execution_count": 10,
      "metadata": {
        "id": "lVxzwCZ6QGgC"
      },
      "outputs": [],
      "source": [
        "books_df = pd.DataFrame({'Title':title, 'Subtitle':subtitle, 'Author':author, 'Publisher':publisher,\n",
        "                        'Publication Year': publication_year, 'Price':price})"
      ]
    },
    {
      "cell_type": "code",
      "execution_count": null,
      "metadata": {
        "id": "klNfdGf4QGgC",
        "outputId": "5e33b18f-4995-4335-c0f3-e531762c5ee0"
      },
      "outputs": [
        {
          "data": {
            "text/html": [
              "<div>\n",
              "<style scoped>\n",
              "    .dataframe tbody tr th:only-of-type {\n",
              "        vertical-align: middle;\n",
              "    }\n",
              "\n",
              "    .dataframe tbody tr th {\n",
              "        vertical-align: top;\n",
              "    }\n",
              "\n",
              "    .dataframe thead th {\n",
              "        text-align: right;\n",
              "    }\n",
              "</style>\n",
              "<table border=\"1\" class=\"dataframe\">\n",
              "  <thead>\n",
              "    <tr style=\"text-align: right;\">\n",
              "      <th></th>\n",
              "      <th>Title</th>\n",
              "      <th>Subtitle</th>\n",
              "      <th>Author</th>\n",
              "      <th>Publisher</th>\n",
              "      <th>Publication Year</th>\n",
              "      <th>Price</th>\n",
              "    </tr>\n",
              "  </thead>\n",
              "  <tbody>\n",
              "    <tr>\n",
              "      <th>0</th>\n",
              "      <td>Generative Deep Learning</td>\n",
              "      <td></td>\n",
              "      <td>David Foster</td>\n",
              "      <td>O'Reilly Media</td>\n",
              "      <td>2022</td>\n",
              "      <td>US$67.99</td>\n",
              "    </tr>\n",
              "    <tr>\n",
              "      <th>1</th>\n",
              "      <td>The Staff Engineer's Path</td>\n",
              "      <td></td>\n",
              "      <td>Tanya Reilly</td>\n",
              "      <td>O'Reilly Media</td>\n",
              "      <td>2022</td>\n",
              "      <td>US$33.99</td>\n",
              "    </tr>\n",
              "    <tr>\n",
              "      <th>2</th>\n",
              "      <td>Designing Data-Intensive Applications</td>\n",
              "      <td>The Big Ideas Behind Reliable, Scalable, and M...</td>\n",
              "      <td>Martin Kleppmann</td>\n",
              "      <td>O'Reilly Media</td>\n",
              "      <td>2017</td>\n",
              "      <td>US$50.99</td>\n",
              "    </tr>\n",
              "    <tr>\n",
              "      <th>3</th>\n",
              "      <td>Learning JavaScript Design Patterns</td>\n",
              "      <td></td>\n",
              "      <td>Addy Osmani</td>\n",
              "      <td>O'Reilly Media</td>\n",
              "      <td>2023</td>\n",
              "      <td>US$56.99</td>\n",
              "    </tr>\n",
              "    <tr>\n",
              "      <th>4</th>\n",
              "      <td>Hands-On Machine Learning with Scikit-Learn, K...</td>\n",
              "      <td></td>\n",
              "      <td>Aurélien Géron</td>\n",
              "      <td>O'Reilly Media</td>\n",
              "      <td>2022</td>\n",
              "      <td>US$76.99</td>\n",
              "    </tr>\n",
              "    <tr>\n",
              "      <th>5</th>\n",
              "      <td>Building Microservices</td>\n",
              "      <td></td>\n",
              "      <td>Sam Newman</td>\n",
              "      <td>O'Reilly Media</td>\n",
              "      <td>2021</td>\n",
              "      <td>US$67.99</td>\n",
              "    </tr>\n",
              "    <tr>\n",
              "      <th>6</th>\n",
              "      <td>Fluent Python</td>\n",
              "      <td></td>\n",
              "      <td>Luciano Ramalho</td>\n",
              "      <td>O'Reilly Media</td>\n",
              "      <td>2022</td>\n",
              "      <td>US$67.99</td>\n",
              "    </tr>\n",
              "    <tr>\n",
              "      <th>7</th>\n",
              "      <td>Fundamentals of Data Engineering</td>\n",
              "      <td></td>\n",
              "      <td>Joe Reis</td>\n",
              "      <td>O'Reilly Media</td>\n",
              "      <td>2022</td>\n",
              "      <td>US$67.99</td>\n",
              "    </tr>\n",
              "    <tr>\n",
              "      <th>8</th>\n",
              "      <td>Learning Domain-Driven Design</td>\n",
              "      <td></td>\n",
              "      <td>Vlad Khononov</td>\n",
              "      <td>O'Reilly Media</td>\n",
              "      <td>2021</td>\n",
              "      <td>US$56.99</td>\n",
              "    </tr>\n",
              "    <tr>\n",
              "      <th>9</th>\n",
              "      <td>Effective TypeScript</td>\n",
              "      <td>62 Specific Ways to Improve Your TypeScript</td>\n",
              "      <td>Dan Vanderkam</td>\n",
              "      <td>O'Reilly Media</td>\n",
              "      <td>2019</td>\n",
              "      <td>US$39.99</td>\n",
              "    </tr>\n",
              "  </tbody>\n",
              "</table>\n",
              "</div>"
            ],
            "text/plain": [
              "                                               Title  \\\n",
              "0                           Generative Deep Learning   \n",
              "1                          The Staff Engineer's Path   \n",
              "2              Designing Data-Intensive Applications   \n",
              "3                Learning JavaScript Design Patterns   \n",
              "4  Hands-On Machine Learning with Scikit-Learn, K...   \n",
              "5                             Building Microservices   \n",
              "6                                      Fluent Python   \n",
              "7                   Fundamentals of Data Engineering   \n",
              "8                      Learning Domain-Driven Design   \n",
              "9                               Effective TypeScript   \n",
              "\n",
              "                                            Subtitle            Author  \\\n",
              "0                                                         David Foster   \n",
              "1                                                         Tanya Reilly   \n",
              "2  The Big Ideas Behind Reliable, Scalable, and M...  Martin Kleppmann   \n",
              "3                                                          Addy Osmani   \n",
              "4                                                       Aurélien Géron   \n",
              "5                                                           Sam Newman   \n",
              "6                                                      Luciano Ramalho   \n",
              "7                                                             Joe Reis   \n",
              "8                                                        Vlad Khononov   \n",
              "9        62 Specific Ways to Improve Your TypeScript     Dan Vanderkam   \n",
              "\n",
              "        Publisher Publication Year     Price  \n",
              "0  O'Reilly Media             2022  US$67.99  \n",
              "1  O'Reilly Media             2022  US$33.99  \n",
              "2  O'Reilly Media             2017  US$50.99  \n",
              "3  O'Reilly Media             2023  US$56.99  \n",
              "4  O'Reilly Media             2022  US$76.99  \n",
              "5  O'Reilly Media             2021  US$67.99  \n",
              "6  O'Reilly Media             2022  US$67.99  \n",
              "7  O'Reilly Media             2022  US$67.99  \n",
              "8  O'Reilly Media             2021  US$56.99  \n",
              "9  O'Reilly Media             2019  US$39.99  "
            ]
          },
          "execution_count": 22,
          "metadata": {},
          "output_type": "execute_result"
        }
      ],
      "source": [
        "books_df"
      ]
    },
    {
      "cell_type": "markdown",
      "metadata": {
        "id": "HNP3AXmRQGgC"
      },
      "source": [
        "#### Step 9 - Store results in Excel"
      ]
    },
    {
      "cell_type": "code",
      "execution_count": 11,
      "metadata": {
        "id": "uo_-hjhpQGgD"
      },
      "outputs": [],
      "source": [
        "books_df.to_excel('books.xlsx', index=False)"
      ]
    },
    {
      "cell_type": "code",
      "execution_count": null,
      "metadata": {
        "id": "nTnmRUvtQGgD"
      },
      "outputs": [],
      "source": []
    }
  ],
  "metadata": {
    "kernelspec": {
      "display_name": "Python 3 (ipykernel)",
      "language": "python",
      "name": "python3"
    },
    "language_info": {
      "codemirror_mode": {
        "name": "ipython",
        "version": 3
      },
      "file_extension": ".py",
      "mimetype": "text/x-python",
      "name": "python",
      "nbconvert_exporter": "python",
      "pygments_lexer": "ipython3",
      "version": "3.9.7"
    },
    "colab": {
      "provenance": []
    }
  },
  "nbformat": 4,
  "nbformat_minor": 0
}